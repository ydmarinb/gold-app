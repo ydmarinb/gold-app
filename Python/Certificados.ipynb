{
 "cells": [
  {
   "cell_type": "code",
   "execution_count": 6,
   "metadata": {},
   "outputs": [],
   "source": [
    "from PyPDF2 import PdfFileWriter, PdfFileReader\n",
    "import io\n",
    "from reportlab.pdfgen import canvas\n",
    "from reportlab.lib.pagesizes import letter\n",
    "from reportlab.pdfbase import pdfmetrics\n",
    "from reportlab.pdfbase.ttfonts import TTFont\n",
    "from datetime import datetime\n"
   ]
  },
  {
   "cell_type": "markdown",
   "metadata": {},
   "source": [
    "# Documento equivalente"
   ]
  },
  {
   "cell_type": "code",
   "execution_count": 19,
   "metadata": {},
   "outputs": [],
   "source": [
    "\n",
    "def documento_equivalente(nombre, cedula, celular, cantidad, valor_unitario, id_detalle, total):\n",
    "    from PyPDF2 import PdfFileWriter, PdfFileReader\n",
    "    import io\n",
    "    from reportlab.pdfgen import canvas\n",
    "    from reportlab.lib.pagesizes import letter\n",
    "    from reportlab.pdfbase import pdfmetrics\n",
    "    from reportlab.pdfbase.ttfonts import TTFont\n",
    "    from datetime import datetime\n",
    "\n",
    "    # Carga de fuente\n",
    "    pdfmetrics.registerFont(TTFont('Arial', 'arial.ttf'))\n",
    "\n",
    "    # Fecha de hoy\n",
    "\n",
    "    anno = datetime.now().year\n",
    "    dia = datetime.now().day\n",
    "    mes = datetime.now().month\n",
    "\n",
    "    packet = io.BytesIO()\n",
    "    # create a new PDF with Reportlab\n",
    "    can = canvas.Canvas(packet, pagesize=letter)\n",
    "\n",
    "    # Nombre\n",
    "    can.drawString(95, 680, nombre)\n",
    "    # CC\n",
    "    can.drawString(100, 658, str(cedula))\n",
    "    #Vereda\n",
    "    #can.drawString(106, 636, vereda)\n",
    "    #tel\n",
    "    can.drawString(400, 636, str(celular))\n",
    "    #can.drawString(225, 590, \"1216722806\")\n",
    "    #can.drawString(329, 590, \"1216722806\")\n",
    "    #Cantidad\n",
    "    can.drawString(225, 567, str(cantidad))\n",
    "    #Valor unitario\n",
    "    can.drawString(329, 567, str(valor_unitario))\n",
    "    # valor total\n",
    "    #can.drawString(450, 567, cantidad*valor_unitario)\n",
    "    #can.drawString(450, 590, \"1216722806\")\n",
    "\n",
    "    #Base\n",
    "    #can.drawString(465, 530, \"126722806\")\n",
    "    # Regalias\n",
    "    #can.drawString(465, 507, \"126722806\")\n",
    "    # Total\n",
    "    can.drawString(465, 480, str(total))\n",
    "    # cambio tipo de letra\n",
    "    can.setFont('Arial', 18)\n",
    "    # Poner dia\n",
    "    can.drawString(443, 698, str(dia))\n",
    "    # Poner mes\n",
    "    can.drawString(500, 698, str(mes))\n",
    "    # Poner año\n",
    "    can.drawString(540, 698, str(anno))\n",
    "    # Numero\n",
    "    can.drawString(500, 740, str(id_detalle))\n",
    "\n",
    "\n",
    "    can.save()\n",
    "\n",
    "    #move to the beginning of the StringIO buffer\n",
    "    packet.seek(0)\n",
    "    new_pdf = PdfFileReader(packet)\n",
    "    # read your existing PDF\n",
    "    existing_pdf = PdfFileReader(open(\"EQUIVALENTE-editado.pdf\", \"rb\"))\n",
    "    output = PdfFileWriter()\n",
    "    # add the \"watermark\" (which is the new pdf) on the existing page\n",
    "    page = existing_pdf.getPage(0)\n",
    "    page.mergePage(new_pdf.getPage(0))\n",
    "    output.addPage(page)\n",
    "    # finally, write \"output\" to a real file\n",
    "    outputStream = open(\"documento_equivalente_{}_{}.pdf\".format((str(anno))+'-'+str(mes)+'-'+str(dia), cedula), \"wb\")\n",
    "    output.write(outputStream)\n",
    "    outputStream.close()\n"
   ]
  },
  {
   "cell_type": "code",
   "execution_count": 22,
   "metadata": {},
   "outputs": [],
   "source": [
    "documento_equivalente('Yubar Daniel', '1216723333', '3217050527', '60.5', '500', '20', '1000')"
   ]
  },
  {
   "cell_type": "markdown",
   "metadata": {},
   "source": [
    "# Documento central minera"
   ]
  },
  {
   "cell_type": "code",
   "execution_count": 220,
   "metadata": {},
   "outputs": [],
   "source": [
    "packet = io.BytesIO()\n",
    "# create a new PDF with Reportlab\n",
    "can = canvas.Canvas(packet, pagesize=letter)\n",
    "\n",
    "# Numero consecutivo\n",
    "can.setFont('Arial', 35)\n",
    "can.drawString(1465, 1130, '23')\n",
    "# Nombre\n",
    "can.setFont('Arial', 25)\n",
    "can.drawString(150, 960, 'Yubar Daniel')\n",
    "# Apellidos\n",
    "can.drawString(660, 960, 'Marín Benjumea')\n",
    "# cc\n",
    "can.drawString(980, 960, '1216722806')\n",
    "#RUT\n",
    "can.drawString(1350, 995, '1216722806 8')\n",
    "# Cod. Actividad economica\n",
    "can.drawString(1400, 940, '0722')\n",
    "#Dirección\n",
    "can.drawString(99, 825, 'Calle 62 c # 135 - 51')\n",
    "#Telefono\n",
    "can.drawString(450, 825, '3217050527')\n",
    "# Correo electronico\n",
    "can.setFont('Arial', 20)\n",
    "can.drawString(660, 825, 'danielmarinbe@gmail.com')\n",
    "# Municipio\n",
    "can.setFont('Arial', 25)\n",
    "can.drawString(1120, 825, 'Medellín')\n",
    "#Departamento\n",
    "can.drawString(1390, 825, 'Antioquia')\n",
    "# Arcilla\n",
    "can.drawString(1390, 655, 'N/A')\n",
    "# Gravas de rio\n",
    "can.drawString(1050, 655, 'N/A')\n",
    "# Arenas\n",
    "can.drawString(730, 655, 'N/A')\n",
    "# priedas preciosas\n",
    "can.drawString(500, 655, 'N/A')\n",
    "# antidad de mineral vendida\n",
    "can.drawString(230, 570, '65,9')\n",
    "# unidad de medida\n",
    "can.drawString(550, 570, 'Gramos')\n",
    "# municipio de origen\n",
    "can.drawString(900, 570, 'Caucasia')\n",
    "# Departamento de origen\n",
    "can.drawString(1300, 570, 'Antioquia')\n",
    "# Fecha de hoy\n",
    "anno = datetime.now().year\n",
    "dia = datetime.now().day\n",
    "mes = datetime.now().month\n",
    "# Fecha reporte\n",
    "anno_reporte = datetime.now().year\n",
    "dia_reporte = datetime.now().day\n",
    "mes_reporte = datetime.now().month\n",
    "#Trimestre\n",
    "can.setFont('Arial', 33)\n",
    "if mes_reporte <= 3:\n",
    "    can.drawString(300, 490, 'X')\n",
    "elif mes_reporte <= 6:\n",
    "    can.drawString(578, 490, 'X')\n",
    "elif mes_reporte <= 9:\n",
    "    can.drawString(935, 490, 'X')\n",
    "else:\n",
    "    can.drawString(1310, 490, 'X')\n",
    "\n",
    "# Mes\n",
    "if mes_reporte == 1:\n",
    "    can.drawString(200, 445, 'X')\n",
    "elif mes_reporte== 2:\n",
    "    can.drawString(290, 445, 'X')\n",
    "elif mes_reporte== 3:\n",
    "    can.drawString(385, 445, 'X')\n",
    "elif mes_reporte== 4:\n",
    "    can.drawString(460, 445, 'X')\n",
    "elif mes_reporte== 5:\n",
    "    can.drawString(560, 445, 'X')\n",
    "elif mes_reporte== 6:\n",
    "    can.drawString(660, 445, 'X')\n",
    "elif mes_reporte== 7:\n",
    "    can.drawString(800, 445, 'X')\n",
    "elif mes_reporte== 8:\n",
    "    can.drawString(930, 445, 'X')\n",
    "elif mes_reporte== 9:\n",
    "    can.drawString(1050, 445, 'X')\n",
    "elif mes_reporte== 10:\n",
    "    can.drawString(1200, 445, 'X')\n",
    "elif mes_reporte== 11:\n",
    "    can.drawString(1310, 445, 'X')\n",
    "elif mes_reporte== 12:\n",
    "    can.drawString(1410, 445, 'X')\n",
    "\n",
    "# Año corte\n",
    "can.setFont('Arial', 25)\n",
    "can.drawString(1508, 460, str(anno_reporte))\n",
    "# Nombre o razon  social\n",
    "can.drawString(30, 270, 'Inversiones Gomez de Causa S.A.S')\n",
    "# Numero rucon\n",
    "can.drawString(550, 270, '4554545')\n",
    "# Numero documento identidad\n",
    "can.drawString(850, 270, '45545454544')\n",
    "# Municipio\n",
    "can.drawString(1150, 270, 'Caucasia')\n",
    "# Departamento\n",
    "can.drawString(1400, 270, 'Antioquia')\n",
    "# año de venta\n",
    "can.drawString(1450, 140, str(anno))\n",
    "# Mes venta\n",
    "can.drawString(1325, 140, str(mes))\n",
    "# dia venta\n",
    "can.drawString(1200, 140, str(dia))\n",
    "\n",
    "can.save()\n",
    "\n",
    "#move to the beginning of the StringIO buffer\n",
    "packet.seek(0)\n",
    "new_pdf = PdfFileReader(packet)\n",
    "# read your existing PDF\n",
    "existing_pdf = PdfFileReader(open(\"certificado_origen.pdf\", \"rb\"))\n",
    "output = PdfFileWriter()\n",
    "# add the \"watermark\" (which is the new pdf) on the existing page\n",
    "page = existing_pdf.getPage(0)\n",
    "page.mergePage(new_pdf.getPage(0))\n",
    "output.addPage(page)\n",
    "# finally, write \"output\" to a real file\n",
    "outputStream = open(\"mineria.pdf\", \"wb\")\n",
    "output.write(outputStream)\n",
    "outputStream.close()\n"
   ]
  },
  {
   "cell_type": "markdown",
   "metadata": {},
   "source": [
    "# Unir PDFs"
   ]
  },
  {
   "cell_type": "code",
   "execution_count": null,
   "metadata": {},
   "outputs": [],
   "source": [
    "def  unir_documento_equivalente\n",
    "    from PyPDF2 import PdfFileMerger, PdfFileReader\n",
    "    import time\n",
    "    import os\n",
    "\n",
    "    # Call the PdfFileMerger\n",
    "    mergedObject = PdfFileMerger()\n",
    "\n",
    "    \n",
    "    documentos = os.listdir()\n",
    "\n",
    "    for documento in documentos:\n",
    "        mergedObject.append(PdfFileReader(documento, 'rb'))\n",
    "\n",
    "    mergedObject.write(\"documento_equivalente_join.pdf\")\n",
    "    os.startfile('documento_equivalente_join.pdf')\n"
   ]
  },
  {
   "cell_type": "code",
   "execution_count": 3,
   "metadata": {},
   "outputs": [],
   "source": [
    "from PyPDF2 import PdfFileMerger, PdfFileReader\n",
    "import time\n",
    "import os\n",
    " \n",
    "# Call the PdfFileMerger\n",
    "mergedObject = PdfFileMerger()\n",
    "\n",
    "cedulas = ['1216722806', '1216723333', '423558854']\n",
    "documentos = [v for v in os.listdir() if v[31:].split('.')[0] in(cedulas)]\n",
    "\n",
    "for documento in documentos:\n",
    "    mergedObject.append(PdfFileReader(documento, 'rb'))\n",
    " \n",
    "mergedObject.write(\"documento_equivalente_join.pdf\")\n",
    "os.startfile('documento_equivalente_join.pdf')\n"
   ]
  },
  {
   "cell_type": "code",
   "execution_count": 11,
   "metadata": {},
   "outputs": [],
   "source": [
    "def abrir_documento_equivalente(cedula):\n",
    "    import os\n",
    "    cedulas = [str(cedula)]\n",
    "    documentos = [v for v in os.listdir() if v[31:].split('.')[0] in(cedulas)]\n",
    "    os.startfile(documentos[0])"
   ]
  },
  {
   "cell_type": "code",
   "execution_count": 15,
   "metadata": {},
   "outputs": [],
   "source": [
    "abrir_documento_equivalente(1216723333)"
   ]
  },
  {
   "cell_type": "code",
   "execution_count": 21,
   "metadata": {},
   "outputs": [],
   "source": [
    "import os\n",
    "cedulas = ['1216723333']\n",
    "documentos = [v for v in os.listdir() if v[31:].split('.')[0] in(cedulas)]\n",
    "os.startfile(documentos[0])"
   ]
  },
  {
   "cell_type": "code",
   "execution_count": 24,
   "metadata": {},
   "outputs": [
    {
     "data": {
      "text/plain": [
       "'C:\\\\Users\\\\ydmar\\\\OneDrive\\\\Documentos\\\\Proyectos\\\\Gold\\\\backend'"
      ]
     },
     "execution_count": 24,
     "metadata": {},
     "output_type": "execute_result"
    }
   ],
   "source": [
    "os.getcwd()"
   ]
  },
  {
   "cell_type": "code",
   "execution_count": 17,
   "metadata": {},
   "outputs": [],
   "source": [
    "os.chdir('../backend/')"
   ]
  },
  {
   "cell_type": "code",
   "execution_count": 20,
   "metadata": {},
   "outputs": [],
   "source": [
    "os.chdir('pdfs/documento_equivalente/')"
   ]
  },
  {
   "cell_type": "code",
   "execution_count": 23,
   "metadata": {},
   "outputs": [],
   "source": [
    "os.chdir('../..')"
   ]
  },
  {
   "cell_type": "code",
   "execution_count": null,
   "metadata": {},
   "outputs": [],
   "source": [
    "os.remove('documento_equivalente_join.pdf')"
   ]
  }
 ],
 "metadata": {
  "kernelspec": {
   "display_name": "Python 3",
   "language": "python",
   "name": "python3"
  }
 },
 "nbformat": 4,
 "nbformat_minor": 4
}
