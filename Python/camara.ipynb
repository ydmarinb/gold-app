{
 "cells": [
  {
   "cell_type": "code",
   "execution_count": 12,
   "metadata": {},
   "outputs": [],
   "source": [
    "import PySimpleGUI as sg\n",
    "from datetime import date\n",
    "import cv2\n",
    "\n",
    "camara = cv2.VideoCapture(0)\n",
    "\n",
    "sg.theme('DarkGreen5')\n",
    "#Definimos los elementos de la interfaz grafica\n",
    "layout = [[sg.Image(filename='', key='-image-')],\n",
    "          [sg.Button('Tomar Fotografia'),sg.Button('Salir')]]\n",
    "#Creamos la interfaz grafica\n",
    "window = sg.Window('Camara FACIALIX',\n",
    "                   layout,\n",
    "                   no_titlebar=False,\n",
    "                   location=(0, 0))\n",
    "\n",
    "image_elem = window['-image-']\n",
    "\n",
    "numero = 0\n",
    "while camara.isOpened():\n",
    "    #Obtenemos informacion de la interfaz grafica y video\n",
    "    event, values = window.read(timeout=0)\n",
    "    ret, frame = camara.read()\n",
    "\n",
    "    #Si salimos\n",
    "    if event in ('Exit', None):\n",
    "        break\n",
    "\n",
    "    #Si tomamos foto\n",
    "    elif event == 'Tomar Fotografia':\n",
    "        ruta = sg.popup_get_folder(title='Guardar Fotografia', message=\"Carpeta destino\")\n",
    "        cv2.imwrite(ruta + \"/\" + str(date.today()) + \".png\", frame)\n",
    "        numero +=1\n",
    "\n",
    "    if not ret:\n",
    "        break\n",
    "\n",
    "    imgbytes = cv2.imencode('.png', frame)[1].tobytes()  # ditto\n",
    "    image_elem.update(data=imgbytes)\n",
    "    \n",
    "    if numero == 1:\n",
    "        break\n",
    "        \n",
    "camara.release()"
   ]
  },
  {
   "cell_type": "code",
   "execution_count": 6,
   "metadata": {},
   "outputs": [
    {
     "data": {
      "text/plain": [
       "2"
      ]
     },
     "execution_count": 6,
     "metadata": {},
     "output_type": "execute_result"
    }
   ],
   "source": [
    "1+1"
   ]
  },
  {
   "cell_type": "code",
   "execution_count": 8,
   "metadata": {},
   "outputs": [],
   "source": [
    "camara.release()"
   ]
  },
  {
   "cell_type": "code",
   "execution_count": null,
   "metadata": {},
   "outputs": [],
   "source": []
  }
 ],
 "metadata": {
  "kernelspec": {
   "display_name": "Python 3",
   "language": "python",
   "name": "python3"
  },
  "language_info": {
   "codemirror_mode": {
    "name": "ipython",
    "version": 3
   },
   "file_extension": ".py",
   "mimetype": "text/x-python",
   "name": "python",
   "nbconvert_exporter": "python",
   "pygments_lexer": "ipython3",
   "version": "3.7.6"
  }
 },
 "nbformat": 4,
 "nbformat_minor": 4
}
