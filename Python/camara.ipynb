{
 "cells": [
  {
   "cell_type": "code",
   "execution_count": 3,
   "metadata": {},
   "outputs": [],
   "source": [
    "import os"
   ]
  },
  {
   "cell_type": "code",
   "execution_count": 39,
   "metadata": {},
   "outputs": [
    {
     "data": {
      "text/plain": [
       "'C:\\\\Users\\\\ydmar\\\\OneDrive\\\\Documentos\\\\Proyectos\\\\Gold\\\\backend\\\\pdfs'"
      ]
     },
     "execution_count": 39,
     "metadata": {},
     "output_type": "execute_result"
    }
   ],
   "source": [
    "os.getcwd()"
   ]
  },
  {
   "cell_type": "code",
   "execution_count": 41,
   "metadata": {},
   "outputs": [],
   "source": [
    "os.chdir('C:/Users/ydmar/OneDrive/Documentos/Proyectos/Gold/backend')"
   ]
  },
  {
   "cell_type": "code",
   "execution_count": 10,
   "metadata": {},
   "outputs": [],
   "source": [
    "def documento_equivalente(nombre, cedula, celular, cantidad, valor_unitario, id_detalle, total):\n",
    "\n",
    "    from PyPDF2 import PdfFileWriter, PdfFileReader\n",
    "    import io\n",
    "    from reportlab.pdfgen import canvas\n",
    "    from reportlab.lib.pagesizes import letter\n",
    "    from reportlab.pdfbase import pdfmetrics\n",
    "    from reportlab.pdfbase.ttfonts import TTFont\n",
    "    from datetime import datetime\n",
    "    import os\n",
    "\n",
    "\n",
    "    # Carga de fuente\n",
    "    pdfmetrics.registerFont(TTFont('Arial', 'arial.ttf'))\n",
    "\n",
    "    # Fecha de hoy\n",
    "\n",
    "    anno = datetime.now().year\n",
    "    dia = datetime.now().day\n",
    "    mes = datetime.now().month\n",
    "\n",
    "    packet = io.BytesIO()\n",
    "    # create a new PDF with Reportlab\n",
    "    can = canvas.Canvas(packet, pagesize=letter)\n",
    "\n",
    "    # Nombre\n",
    "    can.drawString(95, 680, nombre)\n",
    "    # CC\n",
    "    can.drawString(100, 658, str(cedula))\n",
    "    #Vereda\n",
    "    #can.drawString(106, 636, vereda)\n",
    "    #tel\n",
    "    can.drawString(400, 636, str(celular))\n",
    "    #can.drawString(225, 590, \"1216722806\")\n",
    "    #can.drawString(329, 590, \"1216722806\")\n",
    "    #Cantidad\n",
    "    can.drawString(225, 567, str(cantidad))\n",
    "    #Valor unitario\n",
    "    can.drawString(329, 567, str(valor_unitario))\n",
    "    # valor total\n",
    "    #can.drawString(450, 567, cantidad*valor_unitario)\n",
    "    #can.drawString(450, 590, \"1216722806\")\n",
    "\n",
    "    #Base\n",
    "    #can.drawString(465, 530, \"126722806\")\n",
    "    # Regalias\n",
    "    #can.drawString(465, 507, \"126722806\")\n",
    "    # Total\n",
    "    can.drawString(465, 480, str(total))\n",
    "    # cambio tipo de letra\n",
    "    can.setFont('Arial', 18)\n",
    "    # Poner dia\n",
    "    can.drawString(443, 698, str(dia))\n",
    "    # Poner mes\n",
    "    can.drawString(500, 698, str(mes))\n",
    "    # Poner año\n",
    "    can.drawString(540, 698, str(anno))\n",
    "    # Numero\n",
    "    can.drawString(500, 740, str(id_detalle))\n",
    "\n",
    "\n",
    "    can.save()\n",
    "\n",
    "    #move to the beginning of the StringIO buffer\n",
    "    packet.seek(0)\n",
    "    new_pdf = PdfFileReader(packet)\n",
    "    # read your existing PDF\n",
    "    existing_pdf = PdfFileReader(open(\"pdfs/EQUIVALENTE-editado.pdf\", \"rb\"))\n",
    "    # Cambiar directorio\n",
    "    os.chdir('pdfs')\n",
    "    # crear carpeta\n",
    "    os.mkdir('documento_equivalente')\n",
    "    # cambiar ruta\n",
    "    os.chdir('documento_equivalente')\n",
    "    output = PdfFileWriter()\n",
    "    # add the \"watermark\" (which is the new pdf) on the existing page\n",
    "    page = existing_pdf.getPage(0)\n",
    "    page.mergePage(new_pdf.getPage(0))\n",
    "    output.addPage(page)\n",
    "    # finally, write \"output\" to a real file\n",
    "    outputStream = open(\"documento_equivalente_{}_{}.pdf\".format((str(anno))+'-'+str(mes)+'-'+str(dia), cedula), \"wb\")\n",
    "    output.write(outputStream)\n",
    "    outputStream.close()\n",
    "    os.chdir('../..')"
   ]
  },
  {
   "cell_type": "code",
   "execution_count": 42,
   "metadata": {},
   "outputs": [],
   "source": [
    "def unir_documento_equivalente():\n",
    "    from PyPDF2 import PdfFileMerger, PdfFileReader\n",
    "    import os\n",
    "    import time\n",
    "    import shutil\n",
    "    os.chdir('pdfs/documento_equivalente/')\n",
    "    # Call the PdfFileMerger\n",
    "    mergedObject = PdfFileMerger()\n",
    "    documentos = os.listdir()\n",
    "    for documento in documentos:\n",
    "        mergedObject.append(PdfFileReader(documento, 'rb'))\n",
    "    mergedObject.write(\"documento_equivalente_join.pdf\")\n",
    "    os.startfile('documento_equivalente_join.pdf')\n",
    "    time.sleep(20)\n",
    "    os.chdir('..')\n",
    "    shutil.rmtree(\"documento_equivalente\")\n",
    "    os.chdir('..')"
   ]
  },
  {
   "cell_type": "code",
   "execution_count": 44,
   "metadata": {},
   "outputs": [],
   "source": [
    "unir_documento_equivalente()"
   ]
  },
  {
   "cell_type": "code",
   "execution_count": 11,
   "metadata": {},
   "outputs": [],
   "source": [
    "documento_equivalente('Yubar Marin', '26565656', '65656565', '622', '565454', '54', '55665')"
   ]
  },
  {
   "cell_type": "code",
   "execution_count": 5,
   "metadata": {},
   "outputs": [],
   "source": [
    "def camara(cedula, idCompra):\n",
    "    import PySimpleGUI as sg\n",
    "    from datetime import date\n",
    "    import cv2\n",
    "\n",
    "    camara = cv2.VideoCapture(0)\n",
    "\n",
    "    sg.theme('DarkGreen5')\n",
    "    # Definimos los elementos de la interfaz grafica\n",
    "    layout = [[sg.Image(filename='', key='-image-')],\n",
    "              [sg.Button('Tomar Fotografia'), sg.Button('Salir')]]\n",
    "    # Creamos la interfaz grafica\n",
    "    window = sg.Window('Camara',\n",
    "                       layout,\n",
    "                       no_titlebar=False,\n",
    "                       location=(0, 0))\n",
    "\n",
    "    image_elem = window['-image-']\n",
    "\n",
    "    numero = 0\n",
    "    while camara.isOpened() and numero < 1:\n",
    "        # Obtenemos informacion de la interfaz grafica y video\n",
    "        event, values = window.read(timeout=0)\n",
    "        ret, frame = camara.read()\n",
    "\n",
    "        # Si salimos\n",
    "        if event == 'Salir':\n",
    "            window.close()\n",
    "            break\n",
    "\n",
    "        # Si tomamos foto\n",
    "        elif event == 'Tomar Fotografia':\n",
    "            cv2.imwrite('fh/foto_compra/'+str(date.today())+'_'+str(cedula)+'_'+str(idCompra)+\".png\", frame)\n",
    "            numero += 1\n",
    "            window.close()\n",
    "\n",
    "        if not ret:\n",
    "            break\n",
    "\n",
    "        imgbytes = cv2.imencode('.png', frame)[1].tobytes()  # ditto\n",
    "        image_elem.update(data=imgbytes)\n",
    "\n",
    "    camara.release()"
   ]
  },
  {
   "cell_type": "code",
   "execution_count": 6,
   "metadata": {},
   "outputs": [],
   "source": [
    "camara(123855524, 18)"
   ]
  },
  {
   "cell_type": "code",
   "execution_count": 7,
   "metadata": {},
   "outputs": [],
   "source": [
    "def camara_cliente(cedula):\n",
    "    import PySimpleGUI as sg\n",
    "    from datetime import date\n",
    "    import cv2\n",
    "\n",
    "    camara = cv2.VideoCapture(0)\n",
    "\n",
    "    sg.theme('DarkGreen5')\n",
    "    # Definimos los elementos de la interfaz grafica\n",
    "    layout = [[sg.Image(filename='', key='-image-')],\n",
    "              [sg.Button('Tomar Fotografia'), sg.Button('Salir')]]\n",
    "    # Creamos la interfaz grafica\n",
    "    window = sg.Window('Camara',\n",
    "                       layout,\n",
    "                       no_titlebar=False,\n",
    "                       location=(0, 0))\n",
    "\n",
    "    image_elem = window['-image-']\n",
    "\n",
    "    numero = 0\n",
    "    while camara.isOpened() and numero < 1:\n",
    "        # Obtenemos informacion de la interfaz grafica y video\n",
    "        event, values = window.read(timeout=0)\n",
    "        ret, frame = camara.read()\n",
    "\n",
    "        # Si salimos\n",
    "        if event == 'Salir':\n",
    "            window.close()\n",
    "            break\n",
    "\n",
    "        # Si tomamos foto\n",
    "        elif event == 'Tomar Fotografia':\n",
    "            cv2.imwrite('fh/foto_ingreso/'+cedula+\".png\", frame)\n",
    "            numero += 1\n",
    "            window.close()\n",
    "\n",
    "        if not ret:\n",
    "            break\n",
    "\n",
    "        imgbytes = cv2.imencode('.png', frame)[1].tobytes()  # ditto\n",
    "        image_elem.update(data=imgbytes)\n",
    "\n",
    "    camara.release()"
   ]
  },
  {
   "cell_type": "code",
   "execution_count": 8,
   "metadata": {},
   "outputs": [
    {
     "ename": "TypeError",
     "evalue": "can only concatenate str (not \"int\") to str",
     "output_type": "error",
     "traceback": [
      "\u001b[1;31m---------------------------------------------------------------------------\u001b[0m",
      "\u001b[1;31mTypeError\u001b[0m                                 Traceback (most recent call last)",
      "\u001b[1;32m<ipython-input-8-7a844ef6f905>\u001b[0m in \u001b[0;36m<module>\u001b[1;34m\u001b[0m\n\u001b[1;32m----> 1\u001b[1;33m \u001b[0mcamara_cliente\u001b[0m\u001b[1;33m(\u001b[0m\u001b[1;36m13586545\u001b[0m\u001b[1;33m)\u001b[0m\u001b[1;33m\u001b[0m\u001b[1;33m\u001b[0m\u001b[0m\n\u001b[0m",
      "\u001b[1;32m<ipython-input-7-c4ea1a99ae10>\u001b[0m in \u001b[0;36mcamara_cliente\u001b[1;34m(cedula)\u001b[0m\n\u001b[0;32m     31\u001b[0m         \u001b[1;31m# Si tomamos foto\u001b[0m\u001b[1;33m\u001b[0m\u001b[1;33m\u001b[0m\u001b[1;33m\u001b[0m\u001b[0m\n\u001b[0;32m     32\u001b[0m         \u001b[1;32melif\u001b[0m \u001b[0mevent\u001b[0m \u001b[1;33m==\u001b[0m \u001b[1;34m'Tomar Fotografia'\u001b[0m\u001b[1;33m:\u001b[0m\u001b[1;33m\u001b[0m\u001b[1;33m\u001b[0m\u001b[0m\n\u001b[1;32m---> 33\u001b[1;33m             \u001b[0mcv2\u001b[0m\u001b[1;33m.\u001b[0m\u001b[0mimwrite\u001b[0m\u001b[1;33m(\u001b[0m\u001b[1;34m'fh/foto_ingreso/'\u001b[0m\u001b[1;33m+\u001b[0m\u001b[0mcedula\u001b[0m\u001b[1;33m+\u001b[0m\u001b[1;34m\".png\"\u001b[0m\u001b[1;33m,\u001b[0m \u001b[0mframe\u001b[0m\u001b[1;33m)\u001b[0m\u001b[1;33m\u001b[0m\u001b[1;33m\u001b[0m\u001b[0m\n\u001b[0m\u001b[0;32m     34\u001b[0m             \u001b[0mnumero\u001b[0m \u001b[1;33m+=\u001b[0m \u001b[1;36m1\u001b[0m\u001b[1;33m\u001b[0m\u001b[1;33m\u001b[0m\u001b[0m\n\u001b[0;32m     35\u001b[0m             \u001b[0mwindow\u001b[0m\u001b[1;33m.\u001b[0m\u001b[0mclose\u001b[0m\u001b[1;33m(\u001b[0m\u001b[1;33m)\u001b[0m\u001b[1;33m\u001b[0m\u001b[1;33m\u001b[0m\u001b[0m\n",
      "\u001b[1;31mTypeError\u001b[0m: can only concatenate str (not \"int\") to str"
     ]
    }
   ],
   "source": [
    "camara_cliente(13586545)"
   ]
  },
  {
   "cell_type": "code",
   "execution_count": 3,
   "metadata": {},
   "outputs": [],
   "source": [
    "camara.release()"
   ]
  },
  {
   "cell_type": "code",
   "execution_count": 8,
   "metadata": {},
   "outputs": [],
   "source": [
    "camara.release()"
   ]
  },
  {
   "cell_type": "code",
   "execution_count": null,
   "metadata": {},
   "outputs": [],
   "source": [
    "sg."
   ]
  }
 ],
 "metadata": {
  "kernelspec": {
   "display_name": "Python 3",
   "language": "python",
   "name": "python3"
  },
  "language_info": {
   "codemirror_mode": {
    "name": "ipython",
    "version": 3
   },
   "file_extension": ".py",
   "mimetype": "text/x-python",
   "name": "python",
   "nbconvert_exporter": "python",
   "pygments_lexer": "ipython3",
   "version": "3.7.6"
  }
 },
 "nbformat": 4,
 "nbformat_minor": 4
}
